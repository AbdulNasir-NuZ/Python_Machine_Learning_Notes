{
 "cells": [
  {
   "cell_type": "code",
   "execution_count": 10,
   "id": "94aa3b19",
   "metadata": {},
   "outputs": [
    {
     "name": "stdout",
     "output_type": "stream",
     "text": [
      "['Bannana', 'Cherry', 'apple']\n"
     ]
    }
   ],
   "source": [
    "# Lists : Ordered, Mutable, allows duplicate elements, can be empty, Hetrogenous\n",
    "\n",
    "myList = ['Bannana','Cherry','apple']\n",
    "\n",
    "print(myList)\n",
    "\n"
   ]
  },
  {
   "cell_type": "code",
   "execution_count": 4,
   "id": "d27dedfc",
   "metadata": {},
   "outputs": [
    {
     "name": "stdout",
     "output_type": "stream",
     "text": [
      "['cherry', 5, True, 'cherry', None, '']\n"
     ]
    }
   ],
   "source": [
    "myList2 = ['cherry', 5, True, 'cherry',None,'']\n",
    "print(myList2)"
   ]
  },
  {
   "cell_type": "code",
   "execution_count": 6,
   "id": "984b3bc0",
   "metadata": {},
   "outputs": [
    {
     "name": "stdout",
     "output_type": "stream",
     "text": [
      "Bannana\n",
      "apple\n"
     ]
    }
   ],
   "source": [
    "item = myList[0]\n",
    "print(item)\n",
    "item = myList[2]\n",
    "print(item)"
   ]
  },
  {
   "cell_type": "code",
   "execution_count": 7,
   "id": "e09e1210",
   "metadata": {},
   "outputs": [
    {
     "name": "stdout",
     "output_type": "stream",
     "text": [
      "apple\n"
     ]
    }
   ],
   "source": [
    "item = myList[-1]\n",
    "print(item)"
   ]
  },
  {
   "cell_type": "code",
   "execution_count": 8,
   "id": "9bf4d24c",
   "metadata": {},
   "outputs": [
    {
     "name": "stdout",
     "output_type": "stream",
     "text": [
      "Bannana\n",
      "Cherry\n",
      "apple\n"
     ]
    }
   ],
   "source": [
    "# iterating over list \n",
    "for x in myList :\n",
    "    print(x)"
   ]
  },
  {
   "cell_type": "code",
   "execution_count": 12,
   "id": "a053728f",
   "metadata": {},
   "outputs": [
    {
     "name": "stdout",
     "output_type": "stream",
     "text": [
      "Yes\n"
     ]
    }
   ],
   "source": [
    "if 'Bannana' in myList:\n",
    "    print('Yes')\n",
    "else:\n",
    "    print('No')"
   ]
  },
  {
   "cell_type": "code",
   "execution_count": 13,
   "id": "bf7deee5",
   "metadata": {},
   "outputs": [
    {
     "name": "stdout",
     "output_type": "stream",
     "text": [
      "No\n"
     ]
    }
   ],
   "source": [
    "if 'Lemon' in myList:\n",
    "    print('Yes')\n",
    "else:\n",
    "    print('No')"
   ]
  },
  {
   "cell_type": "code",
   "execution_count": 14,
   "id": "a416e6a0",
   "metadata": {},
   "outputs": [
    {
     "name": "stdout",
     "output_type": "stream",
     "text": [
      "3\n"
     ]
    }
   ],
   "source": [
    "print(len(myList))"
   ]
  },
  {
   "cell_type": "code",
   "execution_count": 15,
   "id": "4e9262de",
   "metadata": {},
   "outputs": [
    {
     "name": "stdout",
     "output_type": "stream",
     "text": [
      "['Bannana', 'Cherry', 'apple', 'Orange']\n"
     ]
    }
   ],
   "source": [
    "myList.append('Orange')\n",
    "print(myList)"
   ]
  },
  {
   "cell_type": "code",
   "execution_count": 16,
   "id": "3634fb90",
   "metadata": {},
   "outputs": [
    {
     "name": "stdout",
     "output_type": "stream",
     "text": [
      "['Bannana', 'Cherry', 'Blueberry', 'apple', 'Orange']\n"
     ]
    }
   ],
   "source": [
    "myList.insert(2,'Blueberry')\n",
    "print(myList)"
   ]
  },
  {
   "cell_type": "code",
   "execution_count": 17,
   "id": "b4efbf86",
   "metadata": {},
   "outputs": [
    {
     "name": "stdout",
     "output_type": "stream",
     "text": [
      "['Bannana', 'Cherry', 'Blueberry', 'apple']\n"
     ]
    }
   ],
   "source": [
    "myList.pop() # removes last elements\n",
    "print(myList)"
   ]
  },
  {
   "cell_type": "code",
   "execution_count": 18,
   "id": "4862520a",
   "metadata": {},
   "outputs": [
    {
     "name": "stdout",
     "output_type": "stream",
     "text": [
      "['Bannana', 'Blueberry', 'apple']\n"
     ]
    }
   ],
   "source": [
    "myList.remove('Cherry')\n",
    "print(myList)"
   ]
  },
  {
   "cell_type": "code",
   "execution_count": 19,
   "id": "e1175c77",
   "metadata": {},
   "outputs": [
    {
     "ename": "ValueError",
     "evalue": "list.remove(x): x not in list",
     "output_type": "error",
     "traceback": [
      "\u001b[1;31m---------------------------------------------------------------------------\u001b[0m",
      "\u001b[1;31mValueError\u001b[0m                                Traceback (most recent call last)",
      "\u001b[1;32m<ipython-input-19-d9991f677954>\u001b[0m in \u001b[0;36m<module>\u001b[1;34m\u001b[0m\n\u001b[1;32m----> 1\u001b[1;33m \u001b[0mmyList\u001b[0m\u001b[1;33m.\u001b[0m\u001b[0mremove\u001b[0m\u001b[1;33m(\u001b[0m\u001b[1;34m'lemon'\u001b[0m\u001b[1;33m)\u001b[0m\u001b[1;33m\u001b[0m\u001b[1;33m\u001b[0m\u001b[0m\n\u001b[0m\u001b[0;32m      2\u001b[0m \u001b[0mprint\u001b[0m\u001b[1;33m(\u001b[0m\u001b[0mmyList\u001b[0m\u001b[1;33m)\u001b[0m\u001b[1;33m\u001b[0m\u001b[1;33m\u001b[0m\u001b[0m\n",
      "\u001b[1;31mValueError\u001b[0m: list.remove(x): x not in list"
     ]
    }
   ],
   "source": [
    "myList.remove('lemon')\n",
    "print(myList)"
   ]
  },
  {
   "cell_type": "code",
   "execution_count": 21,
   "id": "dbde0c29",
   "metadata": {},
   "outputs": [
    {
     "name": "stdout",
     "output_type": "stream",
     "text": [
      "[]\n"
     ]
    }
   ],
   "source": [
    "myList.clear()\n",
    "# remove all elements from the list\n",
    "print(myList)"
   ]
  },
  {
   "cell_type": "code",
   "execution_count": 23,
   "id": "a0e16ce2",
   "metadata": {},
   "outputs": [
    {
     "data": {
      "text/plain": [
       "['cherry', 5, True, 'cherry', None, '']"
      ]
     },
     "execution_count": 23,
     "metadata": {},
     "output_type": "execute_result"
    }
   ],
   "source": [
    "myList2"
   ]
  },
  {
   "cell_type": "code",
   "execution_count": 24,
   "id": "8cf565a7",
   "metadata": {},
   "outputs": [
    {
     "name": "stdout",
     "output_type": "stream",
     "text": [
      "['', None, 'cherry', True, 5, 'cherry']\n"
     ]
    }
   ],
   "source": [
    "myList2.reverse()\n",
    "print(myList2)"
   ]
  },
  {
   "cell_type": "code",
   "execution_count": 29,
   "id": "000e1976",
   "metadata": {},
   "outputs": [
    {
     "name": "stdout",
     "output_type": "stream",
     "text": [
      "[-4, -1, 0, 4, 5, 10, 20]\n"
     ]
    }
   ],
   "source": [
    "myList = [-1,10,20,4,5,-4,0]\n",
    "myList.sort()\n",
    "print(myList)"
   ]
  },
  {
   "cell_type": "code",
   "execution_count": 30,
   "id": "4d0d2ff1",
   "metadata": {},
   "outputs": [
    {
     "name": "stdout",
     "output_type": "stream",
     "text": [
      "[0, 0, 0, 0, 0]\n"
     ]
    }
   ],
   "source": [
    "# List tricks\n",
    "\n",
    "list1 = [0] *5\n",
    "print(list1)"
   ]
  },
  {
   "cell_type": "code",
   "execution_count": 32,
   "id": "12568d05",
   "metadata": {},
   "outputs": [
    {
     "name": "stdout",
     "output_type": "stream",
     "text": [
      "[0, 0, 0, 0, 0, 1, 2, 3, 4, 5]\n"
     ]
    }
   ],
   "source": [
    "list2 = [1, 2, 3, 4, 5]\n",
    "newlist2 = list1 + list2\n",
    "print(newlist2)"
   ]
  },
  {
   "cell_type": "code",
   "execution_count": 35,
   "id": "98066db0",
   "metadata": {},
   "outputs": [
    {
     "name": "stdout",
     "output_type": "stream",
     "text": [
      "[2, 3, 4, 5]\n"
     ]
    }
   ],
   "source": [
    "# slicing \n",
    "list3 = [1, 2, 3, 4, 5, 6, 7, 8, 9]\n",
    "a = list3[1:5]\n",
    "print(a)"
   ]
  },
  {
   "cell_type": "code",
   "execution_count": 36,
   "id": "3912619a",
   "metadata": {},
   "outputs": [
    {
     "name": "stdout",
     "output_type": "stream",
     "text": [
      "[1, 2, 3, 4, 5]\n"
     ]
    }
   ],
   "source": [
    "a = list3[ : 5]\n",
    "print(a)"
   ]
  },
  {
   "cell_type": "code",
   "execution_count": 37,
   "id": "2bc1a98f",
   "metadata": {},
   "outputs": [
    {
     "name": "stdout",
     "output_type": "stream",
     "text": [
      "[1, 3, 5, 7, 9]\n"
     ]
    }
   ],
   "source": [
    "a = list3[ :: 2]\n",
    "print(a)"
   ]
  },
  {
   "cell_type": "code",
   "execution_count": 39,
   "id": "79dd37fd",
   "metadata": {},
   "outputs": [
    {
     "name": "stdout",
     "output_type": "stream",
     "text": [
      "[9, 8, 7, 6, 5, 4, 3, 2, 1]\n"
     ]
    }
   ],
   "source": [
    "a = list3[ :: -1]\n",
    "print(a)"
   ]
  },
  {
   "cell_type": "code",
   "execution_count": 47,
   "id": "6f8ec451",
   "metadata": {},
   "outputs": [
    {
     "name": "stdout",
     "output_type": "stream",
     "text": [
      "['bannana', 'Orange', 'cherry', 'apple', 'Grape']\n",
      "['bannana', 'Orange', 'cherry', 'apple', 'Grape']\n",
      "['bannana', 'Orange', 'cherry', 'apple']\n",
      "['bannana', 'Orange', 'cherry', 'apple', 'Grape']\n"
     ]
    }
   ],
   "source": [
    "list_org = ['bannana','Orange','cherry','apple']\n",
    "list_copy = list_org\n",
    "list_cpy = list_org.copy()\n",
    "list_copy.append('Grape')\n",
    "\n",
    "print(list_copy)\n",
    "print(list_org)\n",
    "print(list_cpy)\n",
    "\n",
    "listcpy = list_org[:]\n",
    "print(listcpy)"
   ]
  },
  {
   "cell_type": "code",
   "execution_count": 48,
   "id": "a43a1b3a",
   "metadata": {},
   "outputs": [
    {
     "name": "stdout",
     "output_type": "stream",
     "text": [
      "[1, 2, 3, 4, 5, 6]\n",
      "[1, 4, 9, 16, 25, 36]\n"
     ]
    }
   ],
   "source": [
    "l =[1, 2, 3, 4, 5, 6]\n",
    "b =[ i * i for i in l]\n",
    "\n",
    "print(l)\n",
    "print(b)"
   ]
  },
  {
   "cell_type": "code",
   "execution_count": null,
   "id": "78afbe33",
   "metadata": {},
   "outputs": [],
   "source": []
  }
 ],
 "metadata": {
  "kernelspec": {
   "display_name": "Python 3",
   "language": "python",
   "name": "python3"
  },
  "language_info": {
   "codemirror_mode": {
    "name": "ipython",
    "version": 3
   },
   "file_extension": ".py",
   "mimetype": "text/x-python",
   "name": "python",
   "nbconvert_exporter": "python",
   "pygments_lexer": "ipython3",
   "version": "3.8.8"
  }
 },
 "nbformat": 4,
 "nbformat_minor": 5
}
