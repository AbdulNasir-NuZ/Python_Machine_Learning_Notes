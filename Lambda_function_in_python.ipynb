{
 "cells": [
  {
   "cell_type": "markdown",
   "id": "afaa969f",
   "metadata": {},
   "source": [
    "what is Lambda Function ?\n",
    "- A lambda function is anonymous function defined without a name and without using def keyword\n",
    "- A lambda function can take any number of arguments but can have only one expression\n",
    "\n",
    "Syntax :\n",
    "\n",
    "    lambda arguments : expression \n",
    " "
   ]
  },
  {
   "cell_type": "code",
   "execution_count": 1,
   "id": "9517a842",
   "metadata": {},
   "outputs": [
    {
     "data": {
      "text/plain": [
       "7"
      ]
     },
     "execution_count": 1,
     "metadata": {},
     "output_type": "execute_result"
    }
   ],
   "source": [
    "## add function \n",
    "\n",
    "def add(a,b):\n",
    "    return a+b\n",
    "\n",
    "add(3,4)"
   ]
  },
  {
   "cell_type": "code",
   "execution_count": 2,
   "id": "a1bfaa18",
   "metadata": {},
   "outputs": [
    {
     "name": "stdout",
     "output_type": "stream",
     "text": [
      "7\n"
     ]
    }
   ],
   "source": [
    "# lambda function \n",
    "\n",
    "add = lambda a,b:a+b\n",
    "print(add(3,4))"
   ]
  },
  {
   "cell_type": "code",
   "execution_count": 3,
   "id": "f8b7b221",
   "metadata": {},
   "outputs": [
    {
     "name": "stdout",
     "output_type": "stream",
     "text": [
      "150\n"
     ]
    }
   ],
   "source": [
    "add = lambda x: x+ 100\n",
    "print(add(50))"
   ]
  },
  {
   "cell_type": "markdown",
   "id": "8a3a34e0",
   "metadata": {},
   "source": [
    "- Prons :\n",
    "   - Suitable for simple logical operations.\n",
    "   - When we want one expression in return, we use the lambda function.\n",
    "   - Used as a parameter to different functions, such as Map, Filter, etc\n",
    "   \n",
    "- Crons :   \n",
    "    - Can only evaluate one expression\n",
    "    - You can't write a doc-string to explain all the inputs, operations, and outputs as you would in a normal def function\n",
    "    - It is not used when we have to declare a function with multiple lines of code"
   ]
  },
  {
   "cell_type": "code",
   "execution_count": 5,
   "id": "fe2ec9d9",
   "metadata": {},
   "outputs": [
    {
     "data": {
      "text/plain": [
       "35"
      ]
     },
     "execution_count": 5,
     "metadata": {},
     "output_type": "execute_result"
    }
   ],
   "source": [
    "# Immediatlt invoke function expression : IFFE\n",
    "(lambda a,b : a * b)(5,7)"
   ]
  },
  {
   "cell_type": "code",
   "execution_count": 6,
   "id": "1ebddbf1",
   "metadata": {},
   "outputs": [
    {
     "name": "stdout",
     "output_type": "stream",
     "text": [
      "20\n"
     ]
    }
   ],
   "source": [
    "product = lambda x, y , z : x*y+z\n",
    "print(product(z=10, y = 2, x = 5))\n"
   ]
  },
  {
   "cell_type": "code",
   "execution_count": 8,
   "id": "f187bf68",
   "metadata": {},
   "outputs": [
    {
     "name": "stdout",
     "output_type": "stream",
     "text": [
      "122\n"
     ]
    }
   ],
   "source": [
    "add = lambda x,y = 10, z = 12 : x+y+z\n",
    "print(add(100))"
   ]
  },
  {
   "cell_type": "code",
   "execution_count": 9,
   "id": "6601e328",
   "metadata": {},
   "outputs": [
    {
     "name": "stdout",
     "output_type": "stream",
     "text": [
      "110\n"
     ]
    }
   ],
   "source": [
    "add = lambda *args : sum(args)\n",
    "print(add(20, 30, 10, 50 ))"
   ]
  },
  {
   "cell_type": "code",
   "execution_count": 10,
   "id": "2adc27fa",
   "metadata": {},
   "outputs": [
    {
     "data": {
      "text/plain": [
       "420"
      ]
     },
     "execution_count": 10,
     "metadata": {},
     "output_type": "execute_result"
    }
   ],
   "source": [
    "higher_ord_fun = lambda x, fun : x + fun(x)\n",
    "higher_ord_fun(20, lambda x : x*x)"
   ]
  },
  {
   "cell_type": "code",
   "execution_count": 11,
   "id": "17eea206",
   "metadata": {},
   "outputs": [
    {
     "data": {
      "text/plain": [
       "'even '"
      ]
     },
     "execution_count": 11,
     "metadata": {},
     "output_type": "execute_result"
    }
   ],
   "source": [
    "(lambda x : (x % 2 and 'odd' or 'even '))(30)"
   ]
  },
  {
   "cell_type": "code",
   "execution_count": 12,
   "id": "4a1ddb0d",
   "metadata": {},
   "outputs": [
    {
     "data": {
      "text/plain": [
       "'odd'"
      ]
     },
     "execution_count": 12,
     "metadata": {},
     "output_type": "execute_result"
    }
   ],
   "source": [
    "(lambda x : (x % 2 and 'odd' or 'even '))(15)"
   ]
  },
  {
   "cell_type": "code",
   "execution_count": 13,
   "id": "da8f6a9f",
   "metadata": {},
   "outputs": [
    {
     "name": "stdout",
     "output_type": "stream",
     "text": [
      "False\n"
     ]
    }
   ],
   "source": [
    "sub_string = lambda string : string in 'Welcome to python function tutorial '\n",
    "print(sub_string('java'))"
   ]
  },
  {
   "cell_type": "code",
   "execution_count": 14,
   "id": "296a4d58",
   "metadata": {},
   "outputs": [
    {
     "name": "stdout",
     "output_type": "stream",
     "text": [
      "True\n"
     ]
    }
   ],
   "source": [
    "sub_string = lambda string : string in 'Welcome to python function tutorial '\n",
    "print(sub_string('python'))"
   ]
  },
  {
   "cell_type": "code",
   "execution_count": 16,
   "id": "3f17c635",
   "metadata": {},
   "outputs": [
    {
     "name": "stdout",
     "output_type": "stream",
     "text": [
      "False\n"
     ]
    }
   ],
   "source": [
    "sub_string = lambda string : string in 'Welcome to python function tutorial '\n",
    "print(sub_string('Python'))\n",
    "\n",
    "# python is case sensitive"
   ]
  },
  {
   "cell_type": "code",
   "execution_count": 17,
   "id": "28023fec",
   "metadata": {},
   "outputs": [
    {
     "name": "stdout",
     "output_type": "stream",
     "text": [
      "[40, 56, 33, 70]\n"
     ]
    }
   ],
   "source": [
    "num = [10, 40, 56, 27, 33, 15, 70]\n",
    "\n",
    "greater = list(filter(lambda num : num>30, num))\n",
    "print(greater)"
   ]
  },
  {
   "cell_type": "code",
   "execution_count": 19,
   "id": "81105e32",
   "metadata": {},
   "outputs": [
    {
     "name": "stdout",
     "output_type": "stream",
     "text": [
      "[40, 56]\n"
     ]
    }
   ],
   "source": [
    "list1 = [10, 40, 56, 27, 33, 15, 70]\n",
    "divide = list(filter(lambda x: (x%4 == 0), list1))\n",
    "print(divide)"
   ]
  },
  {
   "cell_type": "code",
   "execution_count": 1,
   "id": "81b7ffe2",
   "metadata": {},
   "outputs": [
    {
     "name": "stdout",
     "output_type": "stream",
     "text": [
      "[20, 80, 112, 54, 66, 30, 140]\n"
     ]
    }
   ],
   "source": [
    "list2 = [10, 40, 56, 27, 33, 15, 70]\n",
    "double_the_number = list(map(lambda x : x*2, list2))\n",
    "print(double_the_number)"
   ]
  },
  {
   "cell_type": "code",
   "execution_count": 2,
   "id": "b2e58d3e",
   "metadata": {},
   "outputs": [
    {
     "data": {
      "text/plain": [
       "[8, 125, 1000, 216, 64, 1728]"
      ]
     },
     "execution_count": 2,
     "metadata": {},
     "output_type": "execute_result"
    }
   ],
   "source": [
    "list3 = [2,5,10,6,4,12]\n",
    "cube = map(lambda x: pow(x,3), list3)\n",
    "list(cube)"
   ]
  },
  {
   "cell_type": "code",
   "execution_count": 3,
   "id": "a79ef197",
   "metadata": {},
   "outputs": [
    {
     "name": "stdout",
     "output_type": "stream",
     "text": [
      "39\n"
     ]
    }
   ],
   "source": [
    "from functools import reduce\n",
    "\n",
    "list4 = [2, 5, 10, 6, 4, 12]\n",
    "sum = reduce((lambda x, y : x+y), list4)\n",
    "print(sum)"
   ]
  },
  {
   "cell_type": "code",
   "execution_count": 4,
   "id": "8b7e12f1",
   "metadata": {},
   "outputs": [
    {
     "name": "stdout",
     "output_type": "stream",
     "text": [
      "28800\n"
     ]
    }
   ],
   "source": [
    "from functools import reduce\n",
    "\n",
    "list4 = [2, 5, 10, 6, 4, 12]\n",
    "product = reduce((lambda x, y : x*y), list4)\n",
    "print(product)"
   ]
  },
  {
   "cell_type": "code",
   "execution_count": 5,
   "id": "fee9838c",
   "metadata": {},
   "outputs": [
    {
     "data": {
      "text/plain": [
       "10"
      ]
     },
     "execution_count": 5,
     "metadata": {},
     "output_type": "execute_result"
    }
   ],
   "source": [
    "def quadratic(a,b,c):\n",
    "    return lambda x : a*x**2 + b*x +c\n",
    "f = quadratic(2,3,5)\n",
    "f(1)   # 1 is x value"
   ]
  },
  {
   "cell_type": "code",
   "execution_count": 6,
   "id": "6e03f8d0",
   "metadata": {},
   "outputs": [
    {
     "data": {
      "text/plain": [
       "19"
      ]
     },
     "execution_count": 6,
     "metadata": {},
     "output_type": "execute_result"
    }
   ],
   "source": [
    "def quadratic(a,b,c):\n",
    "    return lambda x : a*x**2 + b*x +c\n",
    "f = quadratic(2,3,5)\n",
    "f(2)"
   ]
  },
  {
   "cell_type": "code",
   "execution_count": null,
   "id": "049f0de0",
   "metadata": {},
   "outputs": [],
   "source": []
  }
 ],
 "metadata": {
  "kernelspec": {
   "display_name": "Python 3",
   "language": "python",
   "name": "python3"
  },
  "language_info": {
   "codemirror_mode": {
    "name": "ipython",
    "version": 3
   },
   "file_extension": ".py",
   "mimetype": "text/x-python",
   "name": "python",
   "nbconvert_exporter": "python",
   "pygments_lexer": "ipython3",
   "version": "3.8.8"
  }
 },
 "nbformat": 4,
 "nbformat_minor": 5
}
